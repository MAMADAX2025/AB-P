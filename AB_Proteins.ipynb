{
 "cells": [
  {
   "cell_type": "code",
   "execution_count": 6,
   "metadata": {
    "colab": {
     "base_uri": "https://localhost:8080/"
    },
    "id": "U0q-eRmutewa",
    "outputId": "7f371d8f-0daf-4c33-d27f-dd485e2f3890",
    "scrolled": false
   },
   "outputs": [],
   "source": [
    "#Code that will create a list for us\n",
    "def to_list(lst):\n",
    "    lst = [el for el in lst]\n",
    "    return lst"
   ]
  },
  {
   "cell_type": "code",
   "execution_count": 27,
   "metadata": {
    "scrolled": true
   },
   "outputs": [
    {
     "name": "stdout",
     "output_type": "stream",
     "text": [
      "['V', 'H', 'L', 'T', 'P', 'E', 'E', 'K', 'S', 'A', 'V', 'T', 'A', 'L', 'W', 'G', 'K', 'V', 'N', 'V', 'D', 'E', 'V', 'G', 'G', 'E', 'A', 'L', 'G', 'R', 'L', 'L', 'V', 'V', 'Y', 'P', 'W', 'T', 'Q', 'R', 'F', 'F', 'E', 'S', 'F', 'G', 'D', 'L', 'S', 'T', 'P', 'D', 'A', 'V', 'M', 'G', 'N', 'P', 'K', 'V', 'K', 'A', 'H', 'G', 'K', 'K', 'V', 'L', 'G', 'A', 'F', 'S', 'D', 'G', 'L', 'A', 'H', 'L', 'D', 'N', 'L', 'K', 'G', 'T', 'F', 'A', 'T', 'L', 'S', 'E', 'L', 'H', 'C', 'D', 'K', 'L', 'H', 'V', 'D', 'P', 'E', 'N', 'F', 'R', 'L', 'L', 'G', 'N', 'V', 'L', 'V', 'C', 'V', 'L', 'A', 'H', 'H', 'F', 'G', 'K', 'E', 'F', 'T', 'P', 'P', 'V', 'Q', 'A', 'A', 'Y', 'Q', 'K', 'V', 'V', 'A', 'G', 'V', 'A', 'N', 'A', 'L', 'A', 'H', 'K', 'Y', 'H']\n"
     ]
    }
   ],
   "source": [
    "#https://www.rcsb.org/structure/1A3N\n",
    "\n",
    "P = '''\n",
    "VHLTPEEKSAVTALWGKVNVDEVGGEALGRLLVVYPWTQRFFESFGDLSTPDAVMGNPKVKAHGKKVLGAFSDGLAHLDNLKGTFATLSELHCDKLHVDPENFRLLGNVLVCVLAHHFGKEFTPPVQAAYQKVVAGVANALAHKYH\n",
    "'''\n",
    "#Create the map\n",
    "def get_dictionary_word_list(Protein):\n",
    "    characters = []\n",
    "    for lines in Protein.split():\n",
    "        for character in lines:\n",
    "            characters.append(character)\n",
    "    return characters\n",
    "    \n",
    "MAP = get_dictionary_word_list(P)\n",
    "list_MAP = to_list(MAP)\n",
    "\n",
    "print(list_MAP)"
   ]
  },
  {
   "cell_type": "code",
   "execution_count": 28,
   "metadata": {},
   "outputs": [
    {
     "name": "stdout",
     "output_type": "stream",
     "text": [
      "['V', 'L', 'A', 'G', 'K', 'H', 'E', 'F', 'T', 'P', 'D', 'N', 'S', 'R', 'Y', 'Q', 'W', 'C', 'M']\n"
     ]
    }
   ],
   "source": [
    "#Create the dict to use\n",
    "import collections\n",
    "def most_used_words(Protein):\n",
    "    words = collections.defaultdict(int)\n",
    "    for line in Protein:\n",
    "        for word in line.split():\n",
    "            words[word] += 1\n",
    "    return sorted(words, key=words.get, reverse=True)\n",
    "\n",
    "dicc = most_used_words(P)\n",
    "print(dicc)"
   ]
  },
  {
   "cell_type": "code",
   "execution_count": 32,
   "metadata": {},
   "outputs": [],
   "source": [
    "#Create the cursor that will travel our map\n",
    "def ABS1(alphabet, MAP):\n",
    "    structure = []\n",
    "    for item in alphabet:\n",
    "        \n",
    "        #Here is a little trick, we start a variable that will tell us if it found a position-variable or not.\n",
    "        last = None\n",
    "        ##############################################################################################################\n",
    "        \n",
    "        lista_posiciones = []\n",
    "        for pos, word in enumerate(MAP, 1):\n",
    "            if (item == word):\n",
    "                lista_posiciones.append(pos)\n",
    "                last = word\n",
    "        if (last != None):\n",
    "            structure.append((last, lista_posiciones))      \n",
    "    return structure"
   ]
  },
  {
   "cell_type": "code",
   "execution_count": 33,
   "metadata": {},
   "outputs": [],
   "source": [
    "data = ABS1(dicc, list_MAP)"
   ]
  },
  {
   "cell_type": "code",
   "execution_count": 46,
   "metadata": {},
   "outputs": [
    {
     "name": "stdout",
     "output_type": "stream",
     "text": [
      "V : [1, 11, 18, 20, 23, 33, 34, 54, 60, 67, 98, 109, 111, 113, 126, 133, 134, 137]\n",
      "L : [3, 14, 28, 31, 32, 48, 68, 75, 78, 81, 88, 91, 96, 105, 106, 110, 114, 141]\n",
      "A : [10, 13, 27, 53, 62, 70, 76, 86, 115, 128, 129, 135, 138, 140, 142]\n",
      "G : [16, 24, 25, 29, 46, 56, 64, 69, 74, 83, 107, 119, 136]\n",
      "K : [8, 17, 59, 61, 65, 66, 82, 95, 120, 132, 144]\n",
      "H : [2, 63, 77, 92, 97, 116, 117, 143, 146]\n",
      "E : [6, 7, 22, 26, 43, 90, 101, 121]\n",
      "F : [41, 42, 45, 71, 85, 103, 118, 122]\n",
      "T : [4, 12, 38, 50, 84, 87, 123]\n",
      "P : [5, 36, 51, 58, 100, 124, 125]\n",
      "D : [21, 47, 52, 73, 79, 94, 99]\n",
      "N : [19, 57, 80, 102, 108, 139]\n",
      "S : [9, 44, 49, 72, 89]\n",
      "R : [30, 40, 104]\n",
      "Y : [35, 130, 145]\n",
      "Q : [39, 127, 131]\n",
      "W : [15, 37]\n",
      "C : [93, 112]\n",
      "M : [55]\n"
     ]
    }
   ],
   "source": [
    "for aminoacid in to_list(data):\n",
    "    print(aminoacid[0]+\" : \"+str(aminoacid[1]))"
   ]
  }
 ],
 "metadata": {
  "colab": {
   "collapsed_sections": [],
   "provenance": []
  },
  "kernelspec": {
   "display_name": "Python 3 (ipykernel)",
   "language": "python",
   "name": "python3"
  },
  "language_info": {
   "codemirror_mode": {
    "name": "ipython",
    "version": 3
   },
   "file_extension": ".py",
   "mimetype": "text/x-python",
   "name": "python",
   "nbconvert_exporter": "python",
   "pygments_lexer": "ipython3",
   "version": "3.9.12"
  }
 },
 "nbformat": 4,
 "nbformat_minor": 1
}
